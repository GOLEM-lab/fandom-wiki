{
 "cells": [
  {
   "cell_type": "markdown",
   "metadata": {},
   "source": [
    "# Clean fandom.com wiki pages to keep only the main text\n",
    "\n",
    "After cloning the repository, run this notebook."
   ]
  },
  {
   "cell_type": "code",
   "execution_count": null,
   "metadata": {},
   "outputs": [],
   "source": [
    "!pip install -r requirements.txt"
   ]
  },
  {
   "cell_type": "code",
   "execution_count": null,
   "metadata": {},
   "outputs": [],
   "source": [
    "# Execute the script to downlaod the content of wiki pages whose URLs are listed in a txt file\n",
    "# and save each page in a separate txt file in the output directory specified after -od\n",
    "!scripts/download_fandom_data.sh -od data/HP_wikis/ < data/fandom_links_HP.txt"
   ]
  },
  {
   "cell_type": "code",
   "execution_count": 20,
   "metadata": {},
   "outputs": [
    {
     "name": "stdout",
     "output_type": "stream",
     "text": [
      "Processed file: Remus_Lupin.txt\n",
      "Processed file: Lily_J._Potter.txt\n",
      "Processed file: Sirius_Black.txt\n",
      "Processed file: Draco_Malfoy.txt\n",
      "Processed file: Harry_Potter.txt\n",
      "Processed file: James_Potter_I.txt\n",
      "Processed file: Ginevra_Weasley.txt\n",
      "Processed file: Hermione_Granger.txt\n",
      "Processed file: Severus_Snape.txt\n",
      "Processed file: Ronald_Weasley.txt\n",
      "All files processed successfully.\n"
     ]
    }
   ],
   "source": [
    "# Clean the downladed txt files to keep only the main text (removes all info boxes)\n",
    "\n",
    "import os\n",
    "import re\n",
    "\n",
    "# Define the input and output directories\n",
    "input_dir = \"data/HP_wikis/harrypotter\"\n",
    "output_dir = \"data/HP_wikis/harrypotter_clean\"\n",
    "\n",
    "# Create the output directory if it doesn't exist\n",
    "if not os.path.exists(output_dir):\n",
    "    os.makedirs(output_dir)\n",
    "\n",
    "# Iterate over all .txt files in the input directory\n",
    "for filename in os.listdir(input_dir):\n",
    "    if filename.endswith(\".txt\"):\n",
    "        # Read the file content\n",
    "        with open(os.path.join(input_dir, filename), \"r\") as file:\n",
    "            lines = file.readlines()\n",
    "\n",
    "        pattern = re.compile(r'^({{|}}|\\||\\[\\[|\\*).*$', re.MULTILINE)\n",
    "\n",
    "        filtered_lines = [line for line in lines if not pattern.match(line)]\n",
    "\n",
    "        # Remove all square brackets and quotation marks\n",
    "        bracket_pattern = re.compile(r'\\[\\[File:.*?\\]\\]|\\[|\\]|\\'\\'\\'', re.MULTILINE)\n",
    "        clean_lines = [bracket_pattern.sub('', line) for line in filtered_lines]\n",
    "\n",
    "        # Remove content within HTML tags\n",
    "        html_pattern = re.compile(r'<[^>]*>[^<]*</[^>]*>', re.MULTILINE)\n",
    "        final_lines = [html_pattern.sub('', line) for line in clean_lines]\n",
    "\n",
    "        # Write the modified content to the output directory\n",
    "        output_filename = filename.replace(\".txt\", \"_clean.txt\")\n",
    "        with open(os.path.join(output_dir, output_filename), \"w\") as file:\n",
    "            file.writelines(final_lines)\n",
    "\n",
    "        print(f\"Processed file: {filename}\")\n",
    "\n",
    "print(\"All files processed successfully.\")"
   ]
  }
 ],
 "metadata": {
  "kernelspec": {
   "display_name": "Python 3",
   "language": "python",
   "name": "python3"
  },
  "language_info": {
   "codemirror_mode": {
    "name": "ipython",
    "version": 3
   },
   "file_extension": ".py",
   "mimetype": "text/x-python",
   "name": "python",
   "nbconvert_exporter": "python",
   "pygments_lexer": "ipython3",
   "version": "3.11.2"
  }
 },
 "nbformat": 4,
 "nbformat_minor": 2
}
